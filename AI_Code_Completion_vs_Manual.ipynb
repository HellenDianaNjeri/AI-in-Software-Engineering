{
 "cells": [
  {
   "cell_type": "markdown",
   "id": "c6aa8156",
   "metadata": {},
   "source": [
    "# Task 1: AI-Powered Code Completion\n",
    "\n",
    "**Tool Used:** GitHub Copilot\n",
    "\n",
    "## Task:\n",
    "Write a Python function to sort a list of dictionaries by a specific key.\n",
    "\n",
    "---\n",
    "\n",
    "##  AI-Suggested Code (GitHub Copilot)\n"
   ]
  },
  {
   "cell_type": "code",
   "execution_count": 1,
   "id": "f51fc664",
   "metadata": {},
   "outputs": [
    {
     "name": "stdout",
     "output_type": "stream",
     "text": [
      "[{'name': 'Bob', 'age': 22}, {'name': 'Alice', 'age': 25}, {'name': 'Charlie', 'age': 30}]\n"
     ]
    }
   ],
   "source": [
    "def sort_dicts_by_key(data, key):\n",
    "    return sorted(data, key=lambda x: x[key])\n",
    "\n",
    "# Sample data\n",
    "people = [\n",
    "    {\"name\": \"Alice\", \"age\": 25},\n",
    "    {\"name\": \"Bob\", \"age\": 22},\n",
    "    {\"name\": \"Charlie\", \"age\": 30}\n",
    "]\n",
    "\n",
    "sorted_people = sort_dicts_by_key(people, \"age\")\n",
    "print(sorted_people)\n"
   ]
  }
 ],
 "metadata": {
  "kernelspec": {
   "display_name": "learn-env",
   "language": "python",
   "name": "python3"
  },
  "language_info": {
   "codemirror_mode": {
    "name": "ipython",
    "version": 3
   },
   "file_extension": ".py",
   "mimetype": "text/x-python",
   "name": "python",
   "nbconvert_exporter": "python",
   "pygments_lexer": "ipython3",
   "version": "3.8.5"
  }
 },
 "nbformat": 4,
 "nbformat_minor": 5
}
