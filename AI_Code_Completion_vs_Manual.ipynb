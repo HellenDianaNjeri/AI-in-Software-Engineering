{
 "cells": [
  {
   "cell_type": "markdown",
   "id": "c6aa8156",
   "metadata": {},
   "source": [
    "# Task 1: AI-Powered Code Completion\n",
    "\n",
    "**Tool Used:** GitHub Copilot\n",
    "\n",
    "## Task:\n",
    "Write a Python function to sort a list of dictionaries by a specific key.\n",
    "\n",
    "---\n",
    "\n",
    "##  AI-Suggested Code (GitHub Copilot)\n"
   ]
  },
  {
   "cell_type": "code",
   "execution_count": 1,
   "id": "f51fc664",
   "metadata": {},
   "outputs": [
    {
     "name": "stdout",
     "output_type": "stream",
     "text": [
      "[{'name': 'Bob', 'age': 22}, {'name': 'Alice', 'age': 25}, {'name': 'Charlie', 'age': 30}]\n"
     ]
    }
   ],
   "source": [
    "def sort_dicts_by_key(data, key):\n",
    "    return sorted(data, key=lambda x: x[key])\n",
    "\n",
    "# Sample data\n",
    "people = [\n",
    "    {\"name\": \"Alice\", \"age\": 25},\n",
    "    {\"name\": \"Bob\", \"age\": 22},\n",
    "    {\"name\": \"Charlie\", \"age\": 30}\n",
    "]\n",
    "\n",
    "sorted_people = sort_dicts_by_key(people, \"age\")\n",
    "print(sorted_people)\n"
   ]
  },
  {
   "cell_type": "markdown",
   "id": "b36a5180",
   "metadata": {},
   "source": [
    "---\n",
    "\n",
    "## Manual Implementation\n"
   ]
  },
  {
   "cell_type": "code",
   "execution_count": 2,
   "id": "92bf37d5",
   "metadata": {},
   "outputs": [
    {
     "name": "stdout",
     "output_type": "stream",
     "text": [
      "[{'name': 'Bob', 'age': 22}, {'name': 'Alice', 'age': 25}, {'name': 'Charlie', 'age': 30}]\n"
     ]
    }
   ],
   "source": [
    "def manual_sort_dicts_by_key(data, key):\n",
    "    for i in range(len(data)):\n",
    "        for j in range(i + 1, len(data)):\n",
    "            if data[i][key] > data[j][key]:\n",
    "                data[i], data[j] = data[j], data[i]\n",
    "    return data\n",
    "\n",
    "# Sample data\n",
    "people_manual = [\n",
    "    {\"name\": \"Alice\", \"age\": 25},\n",
    "    {\"name\": \"Bob\", \"age\": 22},\n",
    "    {\"name\": \"Charlie\", \"age\": 30}\n",
    "]\n",
    "\n",
    "sorted_manual = manual_sort_dicts_by_key(people_manual, \"age\")\n",
    "print(sorted_manual)\n"
   ]
  },
  {
   "cell_type": "markdown",
   "id": "e8cfa1b1",
   "metadata": {},
   "source": [
    "---\n",
    "\n",
    "## Analysis\n",
    "\n",
    "In this task, GitHub Copilot suggested a Python function using the built-in `sorted()` function combined with a lambda expression to sort a list of dictionaries. The manual implementation, on the other hand, applies a simple nested loop sorting technique (similar to selection or bubble sort) based on dictionary keys.\n",
    "\n",
    "**Efficiency Comparison:**  \n",
    "The AI-generated version is significantly more efficient. Python’s `sorted()` function uses Timsort, which has a time complexity of O(n log n), making it highly optimized for real-world use cases. The manual implementation has a time complexity of O(n²), which becomes inefficient for large datasets.\n",
    "\n",
    "**Readability and Maintainability:**  \n",
    "The AI-suggested code is more concise and readable, following Pythonic practices. The manual approach, while educational, introduces unnecessary complexity and potential for bugs, especially if the list is large or keys are missing.\n",
    "\n",
    "**Conclusion:**  \n",
    "The AI-generated version is both **faster and more maintainable**, demonstrating the power of code completion tools in producing production-ready snippets quickly. This allows developers to focus on higher-level logic rather than reinventing well-established utilities.\n",
    "\n",
    "---\n"
   ]
  }
 ],
 "metadata": {
  "kernelspec": {
   "display_name": "learn-env",
   "language": "python",
   "name": "python3"
  },
  "language_info": {
   "codemirror_mode": {
    "name": "ipython",
    "version": 3
   },
   "file_extension": ".py",
   "mimetype": "text/x-python",
   "name": "python",
   "nbconvert_exporter": "python",
   "pygments_lexer": "ipython3",
   "version": "3.8.5"
  }
 },
 "nbformat": 4,
 "nbformat_minor": 5
}
